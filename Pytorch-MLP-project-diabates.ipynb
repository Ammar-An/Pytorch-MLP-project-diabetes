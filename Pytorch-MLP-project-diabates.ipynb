{
 "cells": [
  {
   "cell_type": "markdown",
   "metadata": {
    "id": "QD6S3xNvDebs"
   },
   "source": [
    "## MLP project"
   ]
  },
  {
   "cell_type": "code",
   "execution_count": 1,
   "metadata": {
    "colab": {
     "base_uri": "https://localhost:8080/",
     "height": 52
    },
    "executionInfo": {
     "elapsed": 8,
     "status": "ok",
     "timestamp": 1640099088734,
     "user": {
      "displayName": "akadyma Tech",
      "photoUrl": "https://lh3.googleusercontent.com/a-/AOh14GhHjjXw8c4nuuBXkihBjHgNTLepCkrwRRcluZP-=s64",
      "userId": "10246711542857733129"
     },
     "user_tz": 300
    },
    "id": "3tChpOBsDVF6",
    "outputId": "0a665fe9-bbd8-45c3-8e9d-875dd1d03f3d"
   },
   "outputs": [
    {
     "data": {
      "text/plain": [
       "'\\nAttribute Information:\\n\\nNumber of times pregnant\\nPlasma glucose concentration a 2 hours in an oral glucose tolerance test\\nDiastolic blood pressure (mm Hg)\\nTriceps skin fold thickness (mm)\\n2-Hour serum insulin (mu U/ml)\\nBody mass index (weight in kg/(height in m)^2)\\nDiabetes pedigree function\\nAge (years)\\nClass variable (0 or 1)\\n'"
      ]
     },
     "execution_count": 1,
     "metadata": {},
     "output_type": "execute_result"
    }
   ],
   "source": [
    "'''\n",
    "Attribute Information:\n",
    "\n",
    "Number of times pregnant\n",
    "Plasma glucose concentration a 2 hours in an oral glucose tolerance test\n",
    "Diastolic blood pressure (mm Hg)\n",
    "Triceps skin fold thickness (mm)\n",
    "2-Hour serum insulin (mu U/ml)\n",
    "Body mass index (weight in kg/(height in m)^2)\n",
    "Diabetes pedigree function\n",
    "Age (years)\n",
    "Class variable (0 or 1)\n",
    "'''"
   ]
  },
  {
   "cell_type": "code",
   "execution_count": 2,
   "metadata": {
    "colab": {
     "base_uri": "https://localhost:8080/"
    },
    "executionInfo": {
     "elapsed": 4525,
     "status": "ok",
     "timestamp": 1628130215290,
     "user": {
      "displayName": "akadyma Tech",
      "photoUrl": "https://lh3.googleusercontent.com/a-/AOh14GhHjjXw8c4nuuBXkihBjHgNTLepCkrwRRcluZP-=s64",
      "userId": "10246711542857733129"
     },
     "user_tz": 240
    },
    "id": "kUuQCciBtvEd",
    "outputId": "023d0e3b-a6d0-4907-fd0a-b68d3f995e3e"
   },
   "outputs": [],
   "source": [
    "# !pip install torch \n",
    "# !pip install numpy\n",
    "# !pip install pandas\n",
    "# !pip install matplotlib\n",
    "# !pip install seaborn\n",
    "# !pip install sklearn \n",
    "\n",
    "import pandas as pd\n",
    "import matplotlib.pyplot as plt\n",
    "import numpy as np \n",
    "import seaborn as sns\n",
    "from sklearn.model_selection import train_test_split\n",
    "import torch \n",
    "import torch.nn as nn\n",
    "from sklearn.metrics import confusion_matrix"
   ]
  },
  {
   "cell_type": "code",
   "execution_count": 3,
   "metadata": {
    "id": "wuDTS_K8DVLo"
   },
   "outputs": [],
   "source": [
    "data = pd.read_csv('diabetes.csv') "
   ]
  },
  {
   "cell_type": "code",
   "execution_count": 4,
   "metadata": {
    "colab": {
     "base_uri": "https://localhost:8080/",
     "height": 206
    },
    "executionInfo": {
     "elapsed": 631,
     "status": "ok",
     "timestamp": 1640102661568,
     "user": {
      "displayName": "akadyma Tech",
      "photoUrl": "https://lh3.googleusercontent.com/a-/AOh14GhHjjXw8c4nuuBXkihBjHgNTLepCkrwRRcluZP-=s64",
      "userId": "10246711542857733129"
     },
     "user_tz": 300
    },
    "id": "uuWH3SVkvIJt",
    "outputId": "d429c519-a002-4132-b471-6dc963b3506e"
   },
   "outputs": [
    {
     "data": {
      "text/html": [
       "<div>\n",
       "<style scoped>\n",
       "    .dataframe tbody tr th:only-of-type {\n",
       "        vertical-align: middle;\n",
       "    }\n",
       "\n",
       "    .dataframe tbody tr th {\n",
       "        vertical-align: top;\n",
       "    }\n",
       "\n",
       "    .dataframe thead th {\n",
       "        text-align: right;\n",
       "    }\n",
       "</style>\n",
       "<table border=\"1\" class=\"dataframe\">\n",
       "  <thead>\n",
       "    <tr style=\"text-align: right;\">\n",
       "      <th></th>\n",
       "      <th>Pregnancies</th>\n",
       "      <th>Glucose</th>\n",
       "      <th>BloodPressure</th>\n",
       "      <th>SkinThickness</th>\n",
       "      <th>Insulin</th>\n",
       "      <th>BMI</th>\n",
       "      <th>DiabetesPedigreeFunction</th>\n",
       "      <th>Age</th>\n",
       "      <th>Outcome</th>\n",
       "    </tr>\n",
       "  </thead>\n",
       "  <tbody>\n",
       "    <tr>\n",
       "      <th>0</th>\n",
       "      <td>6</td>\n",
       "      <td>148</td>\n",
       "      <td>72</td>\n",
       "      <td>35</td>\n",
       "      <td>0</td>\n",
       "      <td>33.6</td>\n",
       "      <td>0.627</td>\n",
       "      <td>50</td>\n",
       "      <td>1</td>\n",
       "    </tr>\n",
       "    <tr>\n",
       "      <th>1</th>\n",
       "      <td>1</td>\n",
       "      <td>85</td>\n",
       "      <td>66</td>\n",
       "      <td>29</td>\n",
       "      <td>0</td>\n",
       "      <td>26.6</td>\n",
       "      <td>0.351</td>\n",
       "      <td>31</td>\n",
       "      <td>0</td>\n",
       "    </tr>\n",
       "    <tr>\n",
       "      <th>2</th>\n",
       "      <td>8</td>\n",
       "      <td>183</td>\n",
       "      <td>64</td>\n",
       "      <td>0</td>\n",
       "      <td>0</td>\n",
       "      <td>23.3</td>\n",
       "      <td>0.672</td>\n",
       "      <td>32</td>\n",
       "      <td>1</td>\n",
       "    </tr>\n",
       "    <tr>\n",
       "      <th>3</th>\n",
       "      <td>1</td>\n",
       "      <td>89</td>\n",
       "      <td>66</td>\n",
       "      <td>23</td>\n",
       "      <td>94</td>\n",
       "      <td>28.1</td>\n",
       "      <td>0.167</td>\n",
       "      <td>21</td>\n",
       "      <td>0</td>\n",
       "    </tr>\n",
       "    <tr>\n",
       "      <th>4</th>\n",
       "      <td>0</td>\n",
       "      <td>137</td>\n",
       "      <td>40</td>\n",
       "      <td>35</td>\n",
       "      <td>168</td>\n",
       "      <td>43.1</td>\n",
       "      <td>2.288</td>\n",
       "      <td>33</td>\n",
       "      <td>1</td>\n",
       "    </tr>\n",
       "  </tbody>\n",
       "</table>\n",
       "</div>"
      ],
      "text/plain": [
       "   Pregnancies  Glucose  BloodPressure  SkinThickness  Insulin   BMI  \\\n",
       "0            6      148             72             35        0  33.6   \n",
       "1            1       85             66             29        0  26.6   \n",
       "2            8      183             64              0        0  23.3   \n",
       "3            1       89             66             23       94  28.1   \n",
       "4            0      137             40             35      168  43.1   \n",
       "\n",
       "   DiabetesPedigreeFunction  Age  Outcome  \n",
       "0                     0.627   50        1  \n",
       "1                     0.351   31        0  \n",
       "2                     0.672   32        1  \n",
       "3                     0.167   21        0  \n",
       "4                     2.288   33        1  "
      ]
     },
     "execution_count": 4,
     "metadata": {},
     "output_type": "execute_result"
    }
   ],
   "source": [
    "data.head(5)"
   ]
  },
  {
   "cell_type": "code",
   "execution_count": 5,
   "metadata": {
    "colab": {
     "base_uri": "https://localhost:8080/",
     "height": 642
    },
    "executionInfo": {
     "elapsed": 1651,
     "status": "ok",
     "timestamp": 1628130711552,
     "user": {
      "displayName": "akadyma Tech",
      "photoUrl": "https://lh3.googleusercontent.com/a-/AOh14GhHjjXw8c4nuuBXkihBjHgNTLepCkrwRRcluZP-=s64",
      "userId": "10246711542857733129"
     },
     "user_tz": 240
    },
    "id": "yCLY2jjOO_Rc",
    "outputId": "b7535b09-58e7-4fc3-eeb6-5def173ff155"
   },
   "outputs": [
    {
     "data": {
      "text/plain": [
       "<matplotlib.axes._subplots.AxesSubplot at 0x1b41a274f10>"
      ]
     },
     "execution_count": 5,
     "metadata": {},
     "output_type": "execute_result"
    },
    {
     "data": {
      "image/png": "[encoded data removed]",
      "text/plain": [
       "<Figure size 720x576 with 2 Axes>"
      ]
     },
     "metadata": {
      "needs_background": "light"
     },
     "output_type": "display_data"
    }
   ],
   "source": [
    "f, ax = plt.subplots(1, figsize=(10,8))\n",
    "sns.heatmap(data.corr(), annot=True, ax=ax)"
   ]
  },
  {
   "cell_type": "code",
   "execution_count": 6,
   "metadata": {
    "colab": {
     "base_uri": "https://localhost:8080/"
    },
    "executionInfo": {
     "elapsed": 357,
     "status": "ok",
     "timestamp": 1640102869032,
     "user": {
      "displayName": "akadyma Tech",
      "photoUrl": "https://lh3.googleusercontent.com/a-/AOh14GhHjjXw8c4nuuBXkihBjHgNTLepCkrwRRcluZP-=s64",
      "userId": "10246711542857733129"
     },
     "user_tz": 300
    },
    "id": "5pSTrhRFEO7I",
    "outputId": "4fce3dd7-df05-4009-9171-137221d20f48",
    "scrolled": true
   },
   "outputs": [],
   "source": [
    "X = data.iloc[:,0:-1].values # all rows, first to last column (except last column), \n",
    "y = data.iloc[:,-1].values # convert to list only last column"
   ]
  },
  {
   "cell_type": "code",
   "execution_count": 7,
   "metadata": {
    "id": "tJZjayVqb2Zp"
   },
   "outputs": [],
   "source": [
    "X_train, X_test, y_train, y_test = train_test_split(X, y, test_size=0.2, random_state=0, shuffle=False)"
   ]
  },
  {
   "cell_type": "code",
   "execution_count": 8,
   "metadata": {
    "colab": {
     "base_uri": "https://localhost:8080/"
    },
    "executionInfo": {
     "elapsed": 6,
     "status": "ok",
     "timestamp": 1640103098474,
     "user": {
      "displayName": "akadyma Tech",
      "photoUrl": "https://lh3.googleusercontent.com/a-/AOh14GhHjjXw8c4nuuBXkihBjHgNTLepCkrwRRcluZP-=s64",
      "userId": "10246711542857733129"
     },
     "user_tz": 300
    },
    "id": "FR6MFlcNb7xs",
    "outputId": "26c8a658-3cad-4520-a114-101f68794f06"
   },
   "outputs": [
    {
     "name": "stdout",
     "output_type": "stream",
     "text": [
      "(614, 8)\n",
      "(614,)\n",
      "--------------\n",
      "(154, 8)\n",
      "(154,)\n"
     ]
    }
   ],
   "source": [
    "print(X_train.shape)\n",
    "print(y_train.shape)\n",
    "print('--------------')\n",
    "print(X_test.shape)\n",
    "print(y_test.shape)\n",
    "\n"
   ]
  },
  {
   "cell_type": "code",
   "execution_count": 9,
   "metadata": {
    "colab": {
     "base_uri": "https://localhost:8080/"
    },
    "executionInfo": {
     "elapsed": 6471,
     "status": "ok",
     "timestamp": 1640103182542,
     "user": {
      "displayName": "akadyma Tech",
      "photoUrl": "https://lh3.googleusercontent.com/a-/AOh14GhHjjXw8c4nuuBXkihBjHgNTLepCkrwRRcluZP-=s64",
      "userId": "10246711542857733129"
     },
     "user_tz": 300
    },
    "id": "I9QN-Artc4mk",
    "outputId": "1e3f03bd-08b9-4063-bc7a-4e1d3d35a3ff"
   },
   "outputs": [
    {
     "name": "stdout",
     "output_type": "stream",
     "text": [
      "torch.Size([614, 8])\n",
      "torch.Size([614])\n",
      "----------\n",
      "torch.Size([154, 8])\n",
      "torch.Size([154])\n",
      "----------\n",
      "<class 'torch.Tensor'>\n"
     ]
    }
   ],
   "source": [
    "# Creating Tensors\n",
    "X_train = torch.FloatTensor(X_train)\n",
    "X_test = torch.FloatTensor(X_test)\n",
    "y_train = torch.LongTensor(y_train)\n",
    "y_test = torch.LongTensor(y_test)\n",
    "\n",
    "print(X_train.shape)\n",
    "print(y_train.shape)\n",
    "print('----------')\n",
    "print(X_test.shape)\n",
    "print(y_test.shape)\n",
    "print('----------')\n",
    "print(type(X_train))"
   ]
  },
  {
   "cell_type": "code",
   "execution_count": 10,
   "metadata": {
    "id": "5S4W8dK4iSiz"
   },
   "outputs": [],
   "source": [
    "class Model(nn.Module):\n",
    "  def __init__(self):\n",
    "    super(Model,self).__init__()\n",
    "    self.fc1 = torch.nn.Linear(X.shape[1],5) # 8 \n",
    "    self.fc2 = torch.nn.Linear(5,3)\n",
    "    self.fc3 = torch.nn.Linear(3,2)\n",
    "    self.sigmoid = torch.nn.Sigmoid()\n",
    "\n",
    "  def forward(self, x):\n",
    "    out = self.fc1(x)\n",
    "    out = self.sigmoid(out)\n",
    "    out = self.fc2(out)\n",
    "    out = self.sigmoid(out)\n",
    "    out = self.fc3(out)\n",
    "    return out\n"
   ]
  },
  {
   "cell_type": "code",
   "execution_count": 11,
   "metadata": {
    "id": "hCTuMByGGciw"
   },
   "outputs": [],
   "source": [
    "# Create an Object \n",
    "net = Model()"
   ]
  },
  {
   "cell_type": "code",
   "execution_count": 12,
   "metadata": {
    "id": "-YCMOImY02AL"
   },
   "outputs": [],
   "source": [
    "loss_function = nn.CrossEntropyLoss()\n",
    "optimizer = torch.optim.Adam(net.parameters(), lr=0.01)"
   ]
  },
  {
   "cell_type": "code",
   "execution_count": 13,
   "metadata": {
    "id": "G9HLOQgNiEaq"
   },
   "outputs": [],
   "source": [
    "def train_MLP(model, X_train, y_train, criterion, optimizer):\n",
    "    # criterion: المعيار (loss function)\n",
    "\n",
    "    model.train()\n",
    "    running_loss = 0.0\n",
    "    running_corrects = 0.0\n",
    "            \n",
    "    outputs = model(X_train)\n",
    "    loss = criterion(outputs, y_train)\n",
    "    optimizer.zero_grad()\n",
    "    loss.backward()\n",
    "    optimizer.step()\n",
    "\n",
    "    # get values & indices with the max vals in the dim with scores for each class/label\n",
    "    max_scores, preds = torch.max(outputs, dim=1)\n",
    "\n",
    "    running_loss += loss.item() * X_train.size(0) \n",
    "    # This: correct += (preds == labels).sum().item() and this: running_corrects += torch.sum(preds == labels.data) are the same.\n",
    "    running_corrects += torch.sum(preds == y_train.data)\n",
    "\n",
    "    epoch_loss = running_loss / len(X_train)\n",
    "    epoch_acc = running_corrects / len(X_train)\n",
    "\n",
    "    return epoch_acc,epoch_loss\n",
    "\n",
    "def validate_MLP(model, X_test, y_test, criterion):\n",
    "    model.eval()\n",
    "    running_loss = 0.0\n",
    "    running_corrects = 0.0\n",
    "\n",
    "    outputs = model(X_test)\n",
    "    loss = criterion(outputs, y_test)\n",
    "\n",
    "    _, preds = torch.max(outputs, 1)    # _: the value, preds: the index\n",
    "    running_loss += loss.item() * X_test.size(0) \n",
    "    running_corrects += torch.sum(preds == y_test.data)\n",
    "\n",
    "    epoch_loss = running_loss / len(X_test)\n",
    "    epoch_acc = running_corrects/ len(X_test)\n",
    "\n",
    "    return epoch_acc,epoch_loss"
   ]
  },
  {
   "cell_type": "code",
   "execution_count": 14,
   "metadata": {
    "colab": {
     "base_uri": "https://localhost:8080/"
    },
    "executionInfo": {
     "elapsed": 1130,
     "status": "ok",
     "timestamp": 1640103607918,
     "user": {
      "displayName": "akadyma Tech",
      "photoUrl": "https://lh3.googleusercontent.com/a-/AOh14GhHjjXw8c4nuuBXkihBjHgNTLepCkrwRRcluZP-=s64",
      "userId": "10246711542857733129"
     },
     "user_tz": 300
    },
    "id": "pZ1u_-mKuVgb",
    "outputId": "f8f3b5bd-bb64-4f37-9dd8-d51f2e26e816"
   },
   "outputs": [
    {
     "name": "stdout",
     "output_type": "stream",
     "text": [
      "Epoch number: 10 and the loss : 0.6401767730712891\n",
      "Epoch number: 10 and the accuarcy : 65.3094482421875\n",
      "Epoch number: 20 and the loss : 0.6373604536056519\n",
      "Epoch number: 20 and the accuarcy : 65.3094482421875\n",
      "Epoch number: 30 and the loss : 0.6321089267730713\n",
      "Epoch number: 30 and the accuarcy : 65.3094482421875\n",
      "Epoch number: 40 and the loss : 0.6290276050567627\n",
      "Epoch number: 40 and the accuarcy : 65.3094482421875\n",
      "Epoch number: 50 and the loss : 0.6245982646942139\n",
      "Epoch number: 50 and the accuarcy : 65.3094482421875\n",
      "Epoch number: 60 and the loss : 0.6197246313095093\n",
      "Epoch number: 60 and the accuarcy : 65.3094482421875\n",
      "Epoch number: 70 and the loss : 0.6142541170120239\n",
      "Epoch number: 70 and the accuarcy : 65.3094482421875\n",
      "Epoch number: 80 and the loss : 0.6084121465682983\n",
      "Epoch number: 80 and the accuarcy : 65.3094482421875\n",
      "Epoch number: 90 and the loss : 0.6022436022758484\n",
      "Epoch number: 90 and the accuarcy : 65.14657592773438\n",
      "Epoch number: 100 and the loss : 0.5958127975463867\n",
      "Epoch number: 100 and the accuarcy : 65.3094482421875\n",
      "Epoch number: 110 and the loss : 0.5892038345336914\n",
      "Epoch number: 110 and the accuarcy : 65.4723129272461\n",
      "Epoch number: 120 and the loss : 0.5827608704566956\n",
      "Epoch number: 120 and the accuarcy : 65.4723129272461\n",
      "Epoch number: 130 and the loss : 0.577045202255249\n",
      "Epoch number: 130 and the accuarcy : 65.3094482421875\n",
      "Epoch number: 140 and the loss : 0.5727607607841492\n",
      "Epoch number: 140 and the accuarcy : 65.4723129272461\n",
      "Epoch number: 150 and the loss : 0.5679352879524231\n",
      "Epoch number: 150 and the accuarcy : 68.7296371459961\n",
      "Epoch number: 160 and the loss : 0.5628167390823364\n",
      "Epoch number: 160 and the accuarcy : 68.7296371459961\n",
      "Epoch number: 170 and the loss : 0.5576035976409912\n",
      "Epoch number: 170 and the accuarcy : 69.381103515625\n",
      "Epoch number: 180 and the loss : 0.55373215675354\n",
      "Epoch number: 180 and the accuarcy : 70.19544219970703\n",
      "Epoch number: 190 and the loss : 0.5495856404304504\n",
      "Epoch number: 190 and the accuarcy : 69.86970520019531\n",
      "Epoch number: 200 and the loss : 0.5460224747657776\n",
      "Epoch number: 200 and the accuarcy : 70.35830688476562\n",
      "Epoch number: 210 and the loss : 0.5428244471549988\n",
      "Epoch number: 210 and the accuarcy : 71.00977325439453\n",
      "Epoch number: 220 and the loss : 0.5397154688835144\n",
      "Epoch number: 220 and the accuarcy : 70.68403625488281\n",
      "Epoch number: 230 and the loss : 0.5365721583366394\n",
      "Epoch number: 230 and the accuarcy : 71.00977325439453\n",
      "Epoch number: 240 and the loss : 0.5336101055145264\n",
      "Epoch number: 240 and the accuarcy : 71.00977325439453\n",
      "Epoch number: 250 and the loss : 0.530935525894165\n",
      "Epoch number: 250 and the accuarcy : 72.47557067871094\n",
      "Epoch number: 260 and the loss : 0.5286567807197571\n",
      "Epoch number: 260 and the accuarcy : 72.96416473388672\n",
      "Epoch number: 270 and the loss : 0.5267571806907654\n",
      "Epoch number: 270 and the accuarcy : 72.96416473388672\n",
      "Epoch number: 280 and the loss : 0.5252853631973267\n",
      "Epoch number: 280 and the accuarcy : 72.96416473388672\n",
      "Epoch number: 290 and the loss : 0.5241440534591675\n",
      "Epoch number: 290 and the accuarcy : 73.45277404785156\n",
      "Epoch number: 300 and the loss : 0.523265540599823\n",
      "Epoch number: 300 and the accuarcy : 73.28990173339844\n",
      "Epoch number: 310 and the loss : 0.5225476026535034\n",
      "Epoch number: 310 and the accuarcy : 73.28990173339844\n",
      "Epoch number: 320 and the loss : 0.5219632983207703\n",
      "Epoch number: 320 and the accuarcy : 73.28990173339844\n",
      "Epoch number: 330 and the loss : 0.5214921832084656\n",
      "Epoch number: 330 and the accuarcy : 73.12703704833984\n",
      "Epoch number: 340 and the loss : 0.5210503339767456\n",
      "Epoch number: 340 and the accuarcy : 73.45277404785156\n",
      "Epoch number: 350 and the loss : 0.5207163095474243\n",
      "Epoch number: 350 and the accuarcy : 73.61563110351562\n",
      "Epoch number: 360 and the loss : 0.5203868746757507\n",
      "Epoch number: 360 and the accuarcy : 73.61563110351562\n",
      "Epoch number: 370 and the loss : 0.5200950503349304\n",
      "Epoch number: 370 and the accuarcy : 73.45277404785156\n",
      "Epoch number: 380 and the loss : 0.5198220014572144\n",
      "Epoch number: 380 and the accuarcy : 73.61563110351562\n",
      "Epoch number: 390 and the loss : 0.5195655822753906\n",
      "Epoch number: 390 and the accuarcy : 73.45277404785156\n",
      "Epoch number: 400 and the loss : 0.5193357467651367\n",
      "Epoch number: 400 and the accuarcy : 73.45277404785156\n",
      "Epoch number: 410 and the loss : 0.5191161036491394\n",
      "Epoch number: 410 and the accuarcy : 73.45277404785156\n",
      "Epoch number: 420 and the loss : 0.5189158320426941\n",
      "Epoch number: 420 and the accuarcy : 73.45277404785156\n",
      "Epoch number: 430 and the loss : 0.5187381505966187\n",
      "Epoch number: 430 and the accuarcy : 73.45277404785156\n",
      "Epoch number: 440 and the loss : 0.518520712852478\n",
      "Epoch number: 440 and the accuarcy : 73.61563110351562\n",
      "Epoch number: 450 and the loss : 0.5183408856391907\n",
      "Epoch number: 450 and the accuarcy : 73.61563110351562\n",
      "Epoch number: 460 and the loss : 0.5181669592857361\n",
      "Epoch number: 460 and the accuarcy : 73.61563110351562\n",
      "Epoch number: 470 and the loss : 0.5180001854896545\n",
      "Epoch number: 470 and the accuarcy : 73.77850341796875\n",
      "Epoch number: 480 and the loss : 0.5178386569023132\n",
      "Epoch number: 480 and the accuarcy : 73.77850341796875\n",
      "Epoch number: 490 and the loss : 0.5176841020584106\n",
      "Epoch number: 490 and the accuarcy : 73.77850341796875\n",
      "Epoch number: 500 and the loss : 0.5175471901893616\n",
      "Epoch number: 500 and the accuarcy : 73.61563110351562\n",
      "Epoch number: 510 and the loss : 0.5174095034599304\n",
      "Epoch number: 510 and the accuarcy : 73.61563110351562\n",
      "Epoch number: 520 and the loss : 0.517254114151001\n",
      "Epoch number: 520 and the accuarcy : 73.77850341796875\n",
      "Epoch number: 530 and the loss : 0.5171070694923401\n",
      "Epoch number: 530 and the accuarcy : 73.77850341796875\n",
      "Epoch number: 540 and the loss : 0.5169695019721985\n",
      "Epoch number: 540 and the accuarcy : 73.77850341796875\n",
      "Epoch number: 550 and the loss : 0.5168375372886658\n",
      "Epoch number: 550 and the accuarcy : 73.77850341796875\n",
      "Epoch number: 560 and the loss : 0.5167067050933838\n",
      "Epoch number: 560 and the accuarcy : 73.77850341796875\n",
      "Epoch number: 570 and the loss : 0.516578733921051\n",
      "Epoch number: 570 and the accuarcy : 73.77850341796875\n",
      "Epoch number: 580 and the loss : 0.5164522528648376\n",
      "Epoch number: 580 and the accuarcy : 73.77850341796875\n",
      "Epoch number: 590 and the loss : 0.5163275003433228\n",
      "Epoch number: 590 and the accuarcy : 73.77850341796875\n",
      "Epoch number: 600 and the loss : 0.5162041187286377\n",
      "Epoch number: 600 and the accuarcy : 73.77850341796875\n",
      "Epoch number: 610 and the loss : 0.5160837173461914\n",
      "Epoch number: 610 and the accuarcy : 73.77850341796875\n"
     ]
    }
   ],
   "source": [
    "number_of_iteration = 614\n",
    "final_losses = []\n",
    "final_accuarcy = []\n",
    "preds = []\n",
    "\n",
    "test_losses = []\n",
    "test_accuarcy = []\n",
    "for i in range(number_of_iteration):\n",
    "    i += 1\n",
    "    epoch_acc, epoch_loss = train_MLP(net, X_train, y_train, loss_function, optimizer)\n",
    "    final_losses.append(epoch_loss)\n",
    "    final_accuarcy.append(epoch_acc)\n",
    "\n",
    "    test_acc,test_loss = validate_MLP(net, X_test, y_test, loss_function)\n",
    "    test_losses.append(test_loss)\n",
    "    test_accuarcy.append(test_acc)\n",
    "\n",
    "    if i % 10 == 0:\n",
    "        print(\"Epoch number: {} and the loss : {}\".format(i,epoch_loss))\n",
    "        print(\"Epoch number: {} and the accuarcy : {}\".format(i,100*epoch_acc))\n"
   ]
  },
  {
   "cell_type": "code",
   "execution_count": 15,
   "metadata": {
    "colab": {
     "base_uri": "https://localhost:8080/",
     "height": 294
    },
    "executionInfo": {
     "elapsed": 397,
     "status": "ok",
     "timestamp": 1640103645632,
     "user": {
      "displayName": "akadyma Tech",
      "photoUrl": "https://lh3.googleusercontent.com/a-/AOh14GhHjjXw8c4nuuBXkihBjHgNTLepCkrwRRcluZP-=s64",
      "userId": "10246711542857733129"
     },
     "user_tz": 300
    },
    "id": "rgf0gr0QwHoi",
    "outputId": "0f071161-b6f4-4158-9f5a-e571a8c19404"
   },
   "outputs": [
    {
     "data": {
      "image/png": "[encoded data removed]",
      "text/plain": [
       "<Figure size 432x288 with 1 Axes>"
      ]
     },
     "metadata": {
      "needs_background": "light"
     },
     "output_type": "display_data"
    }
   ],
   "source": [
    "plt.plot(range(number_of_iteration),final_losses)\n",
    "plt.plot(range(number_of_iteration),test_losses)\n",
    "plt.xlabel('Epochs')\n",
    "plt.ylabel('Loss')\n",
    "plt.legend(['Train','Test'])\n",
    "plt.title('Train vs Test Loss')\n",
    "plt.show()"
   ]
  },
  {
   "cell_type": "code",
   "execution_count": 16,
   "metadata": {
    "colab": {
     "base_uri": "https://localhost:8080/",
     "height": 294
    },
    "executionInfo": {
     "elapsed": 395,
     "status": "ok",
     "timestamp": 1640103703750,
     "user": {
      "displayName": "akadyma Tech",
      "photoUrl": "https://lh3.googleusercontent.com/a-/AOh14GhHjjXw8c4nuuBXkihBjHgNTLepCkrwRRcluZP-=s64",
      "userId": "10246711542857733129"
     },
     "user_tz": 300
    },
    "id": "ppR6HnJkzU2b",
    "outputId": "a359a324-d845-4f6f-9a2f-18b690d8d7bf"
   },
   "outputs": [
    {
     "data": {
      "image/png": "[encoded data removed]",
      "text/plain": [
       "<Figure size 432x288 with 1 Axes>"
      ]
     },
     "metadata": {
      "needs_background": "light"
     },
     "output_type": "display_data"
    }
   ],
   "source": [
    "plt.plot(range(number_of_iteration),final_accuarcy)\n",
    "plt.plot(range(number_of_iteration),test_accuarcy)\n",
    "plt.xlabel('Epochs')\n",
    "plt.ylabel('Accuarcy')\n",
    "plt.legend(['Train','Test'])\n",
    "plt.title('Train vs Test Accuarcy')\n",
    "plt.show()\n"
   ]
  },
  {
   "cell_type": "code",
   "execution_count": 17,
   "metadata": {
    "colab": {
     "base_uri": "https://localhost:8080/",
     "height": 294
    },
    "executionInfo": {
     "elapsed": 204,
     "status": "ok",
     "timestamp": 1628043009243,
     "user": {
      "displayName": "akadyma Tech",
      "photoUrl": "https://lh3.googleusercontent.com/a-/AOh14GhHjjXw8c4nuuBXkihBjHgNTLepCkrwRRcluZP-=s64",
      "userId": "10246711542857733129"
     },
     "user_tz": 240
    },
    "id": "BhoHk3jTw5Fj",
    "outputId": "eb7c2a83-184b-47e6-acb1-b939f95aeb83"
   },
   "outputs": [
    {
     "data": {
      "text/plain": [
       "Text(0.5, 0, 'Epochs')"
      ]
     },
     "execution_count": 17,
     "metadata": {},
     "output_type": "execute_result"
    },
    {
     "data": {
      "image/png": "[encoded data removed]",
      "text/plain": [
       "<Figure size 432x288 with 1 Axes>"
      ]
     },
     "metadata": {
      "needs_background": "light"
     },
     "output_type": "display_data"
    }
   ],
   "source": [
    "#plot the loss function\n",
    "plt.plot(range(number_of_iteration),final_accuarcy)\n",
    "plt.ylabel('Accuarcy')\n",
    "plt.xlabel('Epochs')"
   ]
  },
  {
   "cell_type": "code",
   "execution_count": 18,
   "metadata": {
    "colab": {
     "base_uri": "https://localhost:8080/",
     "height": 294
    },
    "executionInfo": {
     "elapsed": 382,
     "status": "ok",
     "timestamp": 1628043011285,
     "user": {
      "displayName": "akadyma Tech",
      "photoUrl": "https://lh3.googleusercontent.com/a-/AOh14GhHjjXw8c4nuuBXkihBjHgNTLepCkrwRRcluZP-=s64",
      "userId": "10246711542857733129"
     },
     "user_tz": 240
    },
    "id": "GdD0FNACzaeY",
    "outputId": "ca5c7eba-fb0a-4ca9-fa2b-f97be82e5639"
   },
   "outputs": [
    {
     "data": {
      "text/plain": [
       "Text(0.5, 0, 'Epochs')"
      ]
     },
     "execution_count": 18,
     "metadata": {},
     "output_type": "execute_result"
    },
    {
     "data": {
      "image/png": "[encoded data removed]",
      "text/plain": [
       "<Figure size 432x288 with 1 Axes>"
      ]
     },
     "metadata": {
      "needs_background": "light"
     },
     "output_type": "display_data"
    }
   ],
   "source": [
    "#plot the loss function\n",
    "plt.plot(range(number_of_iteration),test_accuarcy)\n",
    "plt.ylabel('Accuarcy')\n",
    "plt.xlabel('Epochs')"
   ]
  },
  {
   "cell_type": "code",
   "execution_count": 19,
   "metadata": {},
   "outputs": [],
   "source": [
    "predictions = []\n",
    "with torch.no_grad():\n",
    "    for i,data in enumerate(X_test):\n",
    "        y_pred = net(data)\n",
    "        predictions.append(y_pred.argmax().item())"
   ]
  },
  {
   "cell_type": "code",
   "execution_count": 20,
   "metadata": {
    "colab": {
     "base_uri": "https://localhost:8080/"
    },
    "executionInfo": {
     "elapsed": 182,
     "status": "ok",
     "timestamp": 1628042786973,
     "user": {
      "displayName": "akadyma Tech",
      "photoUrl": "https://lh3.googleusercontent.com/a-/AOh14GhHjjXw8c4nuuBXkihBjHgNTLepCkrwRRcluZP-=s64",
      "userId": "10246711542857733129"
     },
     "user_tz": 240
    },
    "id": "ZpvUR2Vj2Yav",
    "outputId": "770bb554-c620-479f-edbe-f96e08fa4b9b"
   },
   "outputs": [
    {
     "name": "stdout",
     "output_type": "stream",
     "text": [
      "0\n",
      "614\n",
      "154\n",
      "154\n"
     ]
    }
   ],
   "source": [
    "print(len(preds))\n",
    "print(len(y_train))\n",
    "print(len(predictions))\n",
    "print(len(y_test))"
   ]
  },
  {
   "cell_type": "code",
   "execution_count": 21,
   "metadata": {
    "colab": {
     "base_uri": "https://localhost:8080/"
    },
    "executionInfo": {
     "elapsed": 146,
     "status": "ok",
     "timestamp": 1628042718956,
     "user": {
      "displayName": "akadyma Tech",
      "photoUrl": "https://lh3.googleusercontent.com/a-/AOh14GhHjjXw8c4nuuBXkihBjHgNTLepCkrwRRcluZP-=s64",
      "userId": "10246711542857733129"
     },
     "user_tz": 240
    },
    "id": "CauF4vXs6Dsk",
    "outputId": "7addfc78-771e-4aee-acc2-3478512408ed"
   },
   "outputs": [
    {
     "name": "stdout",
     "output_type": "stream",
     "text": [
      "1\n"
     ]
    }
   ],
   "source": [
    "print(predictions[0])"
   ]
  },
  {
   "cell_type": "code",
   "execution_count": 22,
   "metadata": {
    "colab": {
     "base_uri": "https://localhost:8080/",
     "height": 294
    },
    "executionInfo": {
     "elapsed": 393,
     "status": "ok",
     "timestamp": 1628043021783,
     "user": {
      "displayName": "akadyma Tech",
      "photoUrl": "https://lh3.googleusercontent.com/a-/AOh14GhHjjXw8c4nuuBXkihBjHgNTLepCkrwRRcluZP-=s64",
      "userId": "10246711542857733129"
     },
     "user_tz": 240
    },
    "id": "6yFlc18uwuUs",
    "outputId": "5d361bf3-0a12-4759-ec9a-a02f458c2d64"
   },
   "outputs": [
    {
     "data": {
      "text/plain": [
       "Text(33.0, 0.5, 'Predicted')"
      ]
     },
     "execution_count": 22,
     "metadata": {},
     "output_type": "execute_result"
    },
    {
     "data": {
      "image/png": "[encoded data removed]",
      "text/plain": [
       "<Figure size 432x288 with 2 Axes>"
      ]
     },
     "metadata": {
      "needs_background": "light"
     },
     "output_type": "display_data"
    }
   ],
   "source": [
    "cm = confusion_matrix(y_test,predictions)\n",
    "\n",
    "sns.heatmap(cm,annot=True)\n",
    "plt.xlabel('Actual')\n",
    "plt.ylabel('Predicted')"
   ]
  },
  {
   "cell_type": "code",
   "execution_count": 23,
   "metadata": {
    "colab": {
     "base_uri": "https://localhost:8080/"
    },
    "executionInfo": {
     "elapsed": 482,
     "status": "ok",
     "timestamp": 1628036483747,
     "user": {
      "displayName": "akadyma Tech",
      "photoUrl": "https://lh3.googleusercontent.com/a-/AOh14GhHjjXw8c4nuuBXkihBjHgNTLepCkrwRRcluZP-=s64",
      "userId": "10246711542857733129"
     },
     "user_tz": 240
    },
    "id": "ddTbethVehwW",
    "outputId": "8af7afeb-ccd3-4f9b-e6cd-7f43a1a7ec16"
   },
   "outputs": [
    {
     "name": "stdout",
     "output_type": "stream",
     "text": [
      "Epoch number: 10 and the loss : 0.515959620475769\n",
      "Epoch number: 20 and the loss : 0.5158045887947083\n",
      "Epoch number: 30 and the loss : 0.5156762599945068\n",
      "Epoch number: 40 and the loss : 0.5155543684959412\n",
      "Epoch number: 50 and the loss : 0.5154348611831665\n",
      "Epoch number: 60 and the loss : 0.5153164267539978\n",
      "Epoch number: 70 and the loss : 0.5151983499526978\n",
      "Epoch number: 80 and the loss : 0.5150803923606873\n",
      "Epoch number: 90 and the loss : 0.5149626135826111\n",
      "Epoch number: 100 and the loss : 0.5148451328277588\n",
      "Epoch number: 110 and the loss : 0.5147279500961304\n",
      "Epoch number: 120 and the loss : 0.5146113038063049\n",
      "Epoch number: 130 and the loss : 0.5144951939582825\n",
      "Epoch number: 140 and the loss : 0.5143797397613525\n",
      "Epoch number: 150 and the loss : 0.5142651200294495\n",
      "Epoch number: 160 and the loss : 0.5141514539718628\n",
      "Epoch number: 170 and the loss : 0.5140388011932373\n",
      "Epoch number: 180 and the loss : 0.5139274001121521\n",
      "Epoch number: 190 and the loss : 0.5138171315193176\n",
      "Epoch number: 200 and the loss : 0.5137084722518921\n",
      "Epoch number: 210 and the loss : 0.5136013031005859\n",
      "Epoch number: 220 and the loss : 0.513498842716217\n",
      "Epoch number: 230 and the loss : 0.5134490132331848\n",
      "Epoch number: 240 and the loss : 0.5132966637611389\n",
      "Epoch number: 250 and the loss : 0.51319420337677\n",
      "Epoch number: 260 and the loss : 0.5130927562713623\n",
      "Epoch number: 270 and the loss : 0.512998640537262\n",
      "Epoch number: 280 and the loss : 0.5129057168960571\n",
      "Epoch number: 290 and the loss : 0.5128118395805359\n",
      "Epoch number: 300 and the loss : 0.5127233862876892\n",
      "Epoch number: 310 and the loss : 0.5126354098320007\n",
      "Epoch number: 320 and the loss : 0.5125446319580078\n",
      "Epoch number: 330 and the loss : 0.5124629735946655\n",
      "Epoch number: 340 and the loss : 0.5123862624168396\n",
      "Epoch number: 350 and the loss : 0.5123024582862854\n",
      "Epoch number: 360 and the loss : 0.51221764087677\n",
      "Epoch number: 370 and the loss : 0.5121433138847351\n",
      "Epoch number: 380 and the loss : 0.5120692849159241\n",
      "Epoch number: 390 and the loss : 0.5119915008544922\n",
      "Epoch number: 400 and the loss : 0.511919379234314\n",
      "Epoch number: 410 and the loss : 0.5118624567985535\n",
      "Epoch number: 420 and the loss : 0.5117793679237366\n",
      "Epoch number: 430 and the loss : 0.5117138028144836\n",
      "Epoch number: 440 and the loss : 0.5116452574729919\n",
      "Epoch number: 450 and the loss : 0.5115829110145569\n",
      "Epoch number: 460 and the loss : 0.5115195512771606\n",
      "Epoch number: 470 and the loss : 0.5114545822143555\n",
      "Epoch number: 480 and the loss : 0.5113952159881592\n",
      "Epoch number: 490 and the loss : 0.5113517642021179\n",
      "Epoch number: 500 and the loss : 0.5112832188606262\n"
     ]
    }
   ],
   "source": [
    "epochs=500\n",
    "final_losses=[]\n",
    "for i in range(epochs):\n",
    "    i= i+1\n",
    "    y_pred=net.forward(X_train)\n",
    "    loss=loss_function(y_pred,y_train)\n",
    "    final_losses.append(loss)\n",
    "    if i % 10 == 0:\n",
    "        print(\"Epoch number: {} and the loss : {}\".format(i,loss.item()))\n",
    "    optimizer.zero_grad()\n",
    "    loss.backward()\n",
    "    optimizer.step()"
   ]
  },
  {
   "cell_type": "code",
   "execution_count": 24,
   "metadata": {
    "colab": {
     "base_uri": "https://localhost:8080/",
     "height": 279
    },
    "executionInfo": {
     "elapsed": 423,
     "status": "ok",
     "timestamp": 1628039107075,
     "user": {
      "displayName": "akadyma Tech",
      "photoUrl": "https://lh3.googleusercontent.com/a-/AOh14GhHjjXw8c4nuuBXkihBjHgNTLepCkrwRRcluZP-=s64",
      "userId": "10246711542857733129"
     },
     "user_tz": 240
    },
    "id": "r9x4ZYKXGPNa",
    "outputId": "14bc7cf0-945d-469c-c44d-815154fe09fe"
   },
   "outputs": [
    {
     "data": {
      "text/plain": [
       "Text(0, 0.5, 'Epochs')"
      ]
     },
     "execution_count": 24,
     "metadata": {},
     "output_type": "execute_result"
    },
    {
     "data": {
      "image/png": "[encoded data removed]",
      "text/plain": [
       "<Figure size 432x288 with 1 Axes>"
      ]
     },
     "metadata": {
      "needs_background": "light"
     },
     "output_type": "display_data"
    }
   ],
   "source": [
    "#plot the loss function\n",
    "plt.plot(range(epochs),final_losses)\n",
    "plt.ylabel('Loss')\n",
    "plt.ylabel('Epochs')"
   ]
  },
  {
   "cell_type": "code",
   "execution_count": null,
   "metadata": {},
   "outputs": [],
   "source": []
  }
 ],
 "metadata": {
  "colab": {
   "collapsed_sections": [
    "2lon4JoLIWiV",
    "o3WnuK5pI6Au",
    "-B4WIIWmJFWW",
    "nekv5IhHLvtC",
    "w_yHdnelM0Zn",
    "X6DlL3Y8mMNM",
    "JJ_0g576pqX9"
   ],
   "machine_shape": "hm",
   "name": "Copy of Pytorch دروس تعلم .ipynb",
   "provenance": [
    {
     "file_id": "1Wj7N5J-_w_JHc2yisIxczmfIe9mgksBO",
     "timestamp": 1655638052165
    }
   ]
  },
  "kernelspec": {
   "display_name": "Python 3 (ipykernel)",
   "language": "python",
   "name": "python3"
  },
  "language_info": {
   "codemirror_mode": {
    "name": "ipython",
    "version": 3
   },
   "file_extension": ".py",
   "mimetype": "text/x-python",
   "name": "python",
   "nbconvert_exporter": "python",
   "pygments_lexer": "ipython3",
   "version": "3.8.3rc1"
  }
 },
 "nbformat": 4,
 "nbformat_minor": 1
}
